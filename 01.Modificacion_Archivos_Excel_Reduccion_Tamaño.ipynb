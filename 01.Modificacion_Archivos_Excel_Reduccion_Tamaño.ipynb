{
  "nbformat": 4,
  "nbformat_minor": 0,
  "metadata": {
    "colab": {
      "provenance": []
    },
    "kernelspec": {
      "name": "python3",
      "display_name": "Python 3"
    },
    "language_info": {
      "name": "python"
    }
  },
  "cells": [
    {
      "cell_type": "code",
      "execution_count": null,
      "metadata": {
        "id": "cxTLQ6MGLRS1"
      },
      "outputs": [],
      "source": [
        "import os\n",
        "import pandas as pd\n",
        "from google.colab import drive"
      ]
    },
    {
      "cell_type": "code",
      "source": [
        "drive.mount('/content/drive')"
      ],
      "metadata": {
        "colab": {
          "base_uri": "https://localhost:8080/"
        },
        "id": "aID8xVQCO4PT",
        "outputId": "5839d2f4-1e05-47a9-881b-fd20ede16d7f"
      },
      "execution_count": null,
      "outputs": [
        {
          "output_type": "stream",
          "name": "stdout",
          "text": [
            "Drive already mounted at /content/drive; to attempt to forcibly remount, call drive.mount(\"/content/drive\", force_remount=True).\n"
          ]
        }
      ]
    },
    {
      "cell_type": "code",
      "source": [
        "# Ruta de la carpeta de origen\n",
        "carpeta_origen = \"/content/drive/MyDrive/00_Ejemplo\""
      ],
      "metadata": {
        "id": "qzj-_68mMBaR"
      },
      "execution_count": null,
      "outputs": []
    },
    {
      "cell_type": "code",
      "source": [
        "print (carpeta_origen)"
      ],
      "metadata": {
        "colab": {
          "base_uri": "https://localhost:8080/"
        },
        "id": "CvSrinyfPZY8",
        "outputId": "6cc287fb-bee2-4ab6-eb36-7cc564b0d30b"
      },
      "execution_count": null,
      "outputs": [
        {
          "output_type": "stream",
          "name": "stdout",
          "text": [
            "/content/drive/MyDrive/00_Ejemplo\n"
          ]
        }
      ]
    },
    {
      "cell_type": "code",
      "source": [
        "# Ruta de la carpeta de destino\n",
        "carpeta_destino = \"/content/drive/MyDrive/00_Ejemplo/Limpio\""
      ],
      "metadata": {
        "id": "CY_-z2w5MCOl"
      },
      "execution_count": null,
      "outputs": []
    },
    {
      "cell_type": "code",
      "source": [
        "# Nombre de la pestaña que deseas copiar\n",
        "nombre_pestaña_origen = \"BASE\""
      ],
      "metadata": {
        "id": "9lkS9wnTMEuj"
      },
      "execution_count": null,
      "outputs": []
    },
    {
      "cell_type": "code",
      "source": [
        "# Filas a omitir (indexadas desde 0)\n",
        "filas_a_omitir = [0, 1, 2, 3]  # Puedes cambiar esto según tus necesidades"
      ],
      "metadata": {
        "id": "F0PvBVc5MHXg"
      },
      "execution_count": null,
      "outputs": []
    },
    {
      "cell_type": "code",
      "source": [
        "# Iterar sobre los archivos en la carpeta de origen\n",
        "for archivo in os.listdir(carpeta_origen):\n",
        "    if archivo.endswith(\".xlsx\") or archivo.endswith(\".xls\"):  # Asegurarse de que sean archivos de Excel\n",
        "        ruta_archivo_origen = os.path.join(carpeta_origen, archivo)\n",
        "\n",
        "        # Leer el archivo de origen y seleccionar la pestaña especificada\n",
        "        df = pd.read_excel(ruta_archivo_origen, sheet_name=nombre_pestaña_origen, header=None)\n",
        "\n",
        "        # Omitir las filas especificadas\n",
        "        df = df.drop(filas_a_omitir)\n",
        "\n",
        "        # Eliminar la primera columna\n",
        "        df = df.iloc[:, 1:]\n",
        "\n",
        "        # Crear el nombre del nuevo archivo de destino\n",
        "        nombre_archivo_sin_extension = os.path.splitext(archivo)[0]\n",
        "        ruta_archivo_destino = os.path.join(carpeta_destino, f\"{nombre_archivo_sin_extension}_nuevo.xlsx\")\n",
        "\n",
        "        # Escribir los datos en un nuevo archivo de Excel\n",
        "        df.to_excel(ruta_archivo_destino, index=False, sheet_name=nombre_pestaña_origen, header=None)\n",
        "\n",
        "print(\"¡Datos copiados exitosamente!\")"
      ],
      "metadata": {
        "colab": {
          "base_uri": "https://localhost:8080/"
        },
        "id": "F7TgUq0DMJ_P",
        "outputId": "1c3f0711-278f-4a7d-900a-1e07d23d2ddb"
      },
      "execution_count": null,
      "outputs": [
        {
          "output_type": "stream",
          "name": "stdout",
          "text": [
            "¡Datos copiados exitosamente!\n"
          ]
        }
      ]
    },
    {
      "cell_type": "code",
      "source": [],
      "metadata": {
        "id": "U2SpfPE3MO7S"
      },
      "execution_count": null,
      "outputs": []
    }
  ]
}